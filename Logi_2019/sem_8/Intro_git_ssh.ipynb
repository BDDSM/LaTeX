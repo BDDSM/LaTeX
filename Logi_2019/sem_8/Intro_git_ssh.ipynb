{
 "cells": [
  {
   "cell_type": "markdown",
   "metadata": {
    "slideshow": {
     "slide_type": "slide"
    }
   },
   "source": [
    "# Лекция о всяких мелочах "
   ]
  },
  {
   "cell_type": "markdown",
   "metadata": {
    "slideshow": {
     "slide_type": "slide"
    }
   },
   "source": [
    "# Agenda \n",
    "\n",
    "* Что такое git, зачем нужен, как может пригодиться в жизни аналитика \n",
    "* Про терминал: что такое, как использовать \n",
    "* Как развернуть сервер и отправить туда код что-нибудь обсчитывать \n",
    "* Как выглядит работа в Яндексе (но это неточно)"
   ]
  },
  {
   "cell_type": "markdown",
   "metadata": {
    "slideshow": {
     "slide_type": "slide"
    }
   },
   "source": [
    "![git](https://pacificsky.ru/uploads/posts/2018-11/1543138597_git.png)"
   ]
  },
  {
   "cell_type": "markdown",
   "metadata": {
    "slideshow": {
     "slide_type": "slide"
    }
   },
   "source": [
    "Сиcтема управления версиями (VCS) позволяет хранить несколько версий одного и того же документа, при необходимости возвращаться к более ранним версиям, определять, кто и когда сделал то или иное изменение, и многое другое.\n",
    "\n",
    "Git — распределённая система управления версиями, одна из многих."
   ]
  },
  {
   "cell_type": "markdown",
   "metadata": {
    "slideshow": {
     "slide_type": "slide"
    }
   },
   "source": [
    "## Зачем? \n",
    "\n",
    "* Запись всей истории, возможность откатиться \n",
    "* Совместные проекты "
   ]
  },
  {
   "cell_type": "markdown",
   "metadata": {
    "slideshow": {
     "slide_type": "slide"
    }
   },
   "source": [
    "![history](https://i.imgur.com/mqmYuy1.png)"
   ]
  },
  {
   "cell_type": "markdown",
   "metadata": {
    "slideshow": {
     "slide_type": "slide"
    }
   },
   "source": [
    "## Базовые команды"
   ]
  },
  {
   "cell_type": "markdown",
   "metadata": {
    "slideshow": {
     "slide_type": "fragment"
    }
   },
   "source": [
    "![basics](https://rachelcarmena.github.io/img/cards/posts/how-to-teach-Git/post-it.png)"
   ]
  },
  {
   "cell_type": "markdown",
   "metadata": {
    "slideshow": {
     "slide_type": "slide"
    }
   },
   "source": [
    "## Общая схема репозитория "
   ]
  },
  {
   "cell_type": "markdown",
   "metadata": {
    "slideshow": {
     "slide_type": "fragment"
    }
   },
   "source": [
    "![repo-schema](https://rachelcarmena.github.io/img/cards/posts/how-to-teach-Git/general-drawing.png)"
   ]
  },
  {
   "cell_type": "markdown",
   "metadata": {
    "slideshow": {
     "slide_type": "slide"
    }
   },
   "source": [
    "## Клонирование репозитория "
   ]
  },
  {
   "cell_type": "markdown",
   "metadata": {
    "slideshow": {
     "slide_type": "fragment"
    }
   },
   "source": [
    "![cloning](https://raw.githubusercontent.com/rachelcarmena/how-to-teach/master/git/clone.png)"
   ]
  },
  {
   "cell_type": "markdown",
   "metadata": {
    "slideshow": {
     "slide_type": "slide"
    }
   },
   "source": [
    "## Внесение изменений"
   ]
  },
  {
   "cell_type": "markdown",
   "metadata": {
    "slideshow": {
     "slide_type": "fragment"
    }
   },
   "source": [
    "![changes](https://raw.githubusercontent.com/rachelcarmena/how-to-teach/master/git/tracked-untracked.png)"
   ]
  },
  {
   "cell_type": "markdown",
   "metadata": {
    "slideshow": {
     "slide_type": "slide"
    }
   },
   "source": [
    "## Создание комита"
   ]
  },
  {
   "cell_type": "markdown",
   "metadata": {
    "slideshow": {
     "slide_type": "fragment"
    }
   },
   "source": [
    "![git-commit-push](https://raw.githubusercontent.com/rachelcarmena/how-to-teach/master/git/add-commit-push.png)"
   ]
  },
  {
   "cell_type": "markdown",
   "metadata": {
    "slideshow": {
     "slide_type": "slide"
    }
   },
   "source": [
    "## Команды"
   ]
  },
  {
   "cell_type": "markdown",
   "metadata": {
    "slideshow": {
     "slide_type": "fragment"
    }
   },
   "source": [
    "__`git status`__ - просмотр изменений\n",
    "\n",
    "__`git add`__ - добавить изменения в staging area \n",
    "\n",
    "__`git commit -m 'your message'`__ - комит изменений в локальный репозиторий \n",
    "\n",
    "__`git push`__ - отправка изменений на сервер"
   ]
  },
  {
   "cell_type": "markdown",
   "metadata": {
    "slideshow": {
     "slide_type": "slide"
    }
   },
   "source": [
    "## Выгрузка обновлений"
   ]
  },
  {
   "cell_type": "markdown",
   "metadata": {
    "slideshow": {
     "slide_type": "fragment"
    }
   },
   "source": [
    "![pull](https://raw.githubusercontent.com/rachelcarmena/how-to-teach/master/git/pull.png)"
   ]
  },
  {
   "cell_type": "markdown",
   "metadata": {
    "slideshow": {
     "slide_type": "slide"
    }
   },
   "source": [
    "## Удаленные репозитории"
   ]
  },
  {
   "cell_type": "markdown",
   "metadata": {
    "slideshow": {
     "slide_type": "fragment"
    }
   },
   "source": [
    "![ggb](https://cdn-images-1.medium.com/max/1600/1*YN9I_2hq6yXNmNJe1IJ4lw.png)"
   ]
  },
  {
   "cell_type": "markdown",
   "metadata": {
    "slideshow": {
     "slide_type": "slide"
    }
   },
   "source": [
    "## Графические редакторы \n",
    "\n",
    "* Немного лагающий, но понравившейся мне [Git Kraken](https://www.gitkraken.com/download)\n",
    "* Официальный графический [редактор от githib](https://desktop.github.com)"
   ]
  },
  {
   "cell_type": "markdown",
   "metadata": {},
   "source": [
    "## Как побаловаться (самоучители)\n",
    "\n",
    "* [Хороший интерактивный курс](https://githowto.com/ru) на русском языке \n",
    "* [Хорошая, обновляемая книга](http://uleming.github.io/gitbook/) на русском языке"
   ]
  },
  {
   "cell_type": "markdown",
   "metadata": {
    "slideshow": {
     "slide_type": "slide"
    }
   },
   "source": [
    "## Терминал \n",
    "\n",
    "![bash](http://www.gauravkgupta.com/wp-content/uploads/2016/12/435539-635941616918679930-16x9.jpg)"
   ]
  },
  {
   "cell_type": "markdown",
   "metadata": {
    "slideshow": {
     "slide_type": "slide"
    }
   },
   "source": [
    "Unix shell — командный интерпретатор, используемый в операционных системах семейства Unix, в котором пользователь может либо давать команды операционной системе по отдельности, либо запускать скрипты, состоящие из списка команд"
   ]
  },
  {
   "cell_type": "markdown",
   "metadata": {
    "slideshow": {
     "slide_type": "slide"
    }
   },
   "source": [
    "## Навигация:\n",
    "\n",
    "- `ls` — содержимое текущей директории\n",
    "- `cd` — сменить текущую директорию\n",
    "- `pwd` — вывести текущую директорию\n"
   ]
  },
  {
   "cell_type": "markdown",
   "metadata": {
    "slideshow": {
     "slide_type": "slide"
    }
   },
   "source": [
    "## Специальные названия:\n",
    "\n",
    "- `.` — текущая директория\n",
    "- `..` — родительская директория\n",
    "- `~` — домашняя директория текущего пользователя, обычно `/home/<username>`\n",
    "- `*` (glob) — любой набор символов: `example*` — это, например, файлы вида `example1`, `example.py`, `example42`"
   ]
  },
  {
   "cell_type": "markdown",
   "metadata": {
    "slideshow": {
     "slide_type": "slide"
    }
   },
   "source": [
    "## Редактирование:\n",
    "\n",
    "- `mkdir` — создать директорию\n",
    "- `rmdir` — удалить пустую директорию\n",
    "- `touch` — создать пустой файл\n",
    "- `rm` — удалить файл, `rm -r` — удалить директорию с содержимым\n",
    "- `cp` — скопировать файл, `cp -r` — скопировать директорию с соедржимым\n",
    "- `mv` — переместить файл или директорию (с содержимым)\n",
    "- `cat` — вывести содержимое файла, `less` — если вывод слишком большой\n",
    "- `grep` — поиск по содержимому файла\n",
    "- `nano` / `vim` — открыть файл в соответсвующем редакторе (`vimtutor` — учебник по `vim` для начинающих)"
   ]
  },
  {
   "cell_type": "markdown",
   "metadata": {
    "slideshow": {
     "slide_type": "slide"
    }
   },
   "source": [
    "## Установка пакетов:\n",
    "\n",
    "- `apt-get install` — Ubuntu / Debian\n",
    "- `brew install` — Mac OS (требует установки: https://brew.sh/)"
   ]
  },
  {
   "cell_type": "markdown",
   "metadata": {
    "slideshow": {
     "slide_type": "fragment"
    }
   },
   "source": [
    "Некоторые команды требуют административных прав: `sudo <command>`\n",
    "![sudo](https://i.imgur.com/qzPSZGF.png)\n",
    "При вводе пароля в терминале не отображается ничего — это нормально"
   ]
  },
  {
   "cell_type": "markdown",
   "metadata": {
    "slideshow": {
     "slide_type": "slide"
    }
   },
   "source": [
    "## Как побаловаться (самоучители) \n",
    "\n",
    "* Линукс на степике [от базы до сервера](https://stepik.org/course/73/)\n",
    "* [Интерактивный курс от базы до крутых штук](http://overthewire.org/wargames/bandit/)"
   ]
  },
  {
   "cell_type": "markdown",
   "metadata": {
    "slideshow": {
     "slide_type": "slide"
    }
   },
   "source": [
    "# Как развернуть сервер? \n",
    "\n",
    "На халяву можно сделать это как минимум: \n",
    "\n",
    "* [Яндекс облако](https://cloud.yandex.ru/services/compute) и его [описание на хабре](https://habr.com/ru/company/yandex/blog/432042/) \n",
    "* [Гугл облако](https://cloud.google.com/compute/) и его [описание на хабре](https://habr.com/ru/post/204644/)"
   ]
  },
  {
   "cell_type": "markdown",
   "metadata": {
    "slideshow": {
     "slide_type": "slide"
    }
   },
   "source": [
    "# SSH"
   ]
  },
  {
   "cell_type": "markdown",
   "metadata": {
    "slideshow": {
     "slide_type": "fragment"
    }
   },
   "source": [
    "* SSH — защищенный протокол для удаленного доступа к компьютерам. Через SSH можно выполнять операции в командной строке компьютера, который физически находится в другом месте."
   ]
  },
  {
   "cell_type": "markdown",
   "metadata": {
    "slideshow": {
     "slide_type": "fragment"
    }
   },
   "source": [
    "* Есть тонкости в подключении с ключами доступа. Про них лучше посмотреть серию [видео из курса по Linux:](https://stepik.org/course/73/syllabus) (2 часть курса)"
   ]
  }
 ],
 "metadata": {
  "celltoolbar": "Slideshow",
  "kernelspec": {
   "display_name": "Python 3",
   "language": "python",
   "name": "python3"
  },
  "language_info": {
   "codemirror_mode": {
    "name": "ipython",
    "version": 3
   },
   "file_extension": ".py",
   "mimetype": "text/x-python",
   "name": "python",
   "nbconvert_exporter": "python",
   "pygments_lexer": "ipython3",
   "version": "3.7.2"
  }
 },
 "nbformat": 4,
 "nbformat_minor": 2
}
